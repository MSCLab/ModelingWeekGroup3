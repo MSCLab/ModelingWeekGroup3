{
 "cells": [
  {
   "cell_type": "markdown",
   "metadata": {},
   "source": [
    "# Test of data exploration in tropopause data\n",
    "\n",
    "2016021600-ART-chemtracer_grid_reg_DOM02_HL_0007.nc as an example\n",
    "\n",
    "Reference: http://unidata.github.io/netcdf4-python/netCDF4/index.html#section1 and https://nbviewer.jupyter.org/urls/bitbucket.org/salishsea/tools/raw/tip/analysis_tools/Exploring%20netCDF%20Files.ipynb"
   ]
  },
  {
   "cell_type": "code",
   "execution_count": 6,
   "metadata": {},
   "outputs": [],
   "source": [
    "from netCDF4 import Dataset\n",
    "\n",
    "rootgrp = Dataset(\"2016021600-ART-chemtracer_grid_reg_DOM02_HL_0007.nc\")"
   ]
  },
  {
   "cell_type": "code",
   "execution_count": 7,
   "metadata": {
    "scrolled": true
   },
   "outputs": [
    {
     "name": "stdout",
     "output_type": "stream",
     "text": [
      "NETCDF3_64BIT_OFFSET\n"
     ]
    }
   ],
   "source": [
    "print (rootgrp.data_model)"
   ]
  },
  {
   "cell_type": "code",
   "execution_count": 11,
   "metadata": {},
   "outputs": [
    {
     "name": "stdout",
     "output_type": "stream",
     "text": [
      "OrderedDict()\n"
     ]
    }
   ],
   "source": [
    "print (rootgrp.groups)"
   ]
  },
  {
   "cell_type": "markdown",
   "metadata": {},
   "source": [
    "dimensions"
   ]
  },
  {
   "cell_type": "code",
   "execution_count": 13,
   "metadata": {},
   "outputs": [
    {
     "name": "stdout",
     "output_type": "stream",
     "text": [
      "odict_keys(['lon', 'lat', 'alt', 'time'])\n"
     ]
    }
   ],
   "source": [
    "print (rootgrp.dimensions.keys())"
   ]
  },
  {
   "cell_type": "markdown",
   "metadata": {},
   "source": [
    "variables"
   ]
  },
  {
   "cell_type": "code",
   "execution_count": 15,
   "metadata": {},
   "outputs": [
    {
     "name": "stdout",
     "output_type": "stream",
     "text": [
      "odict_keys(['lon', 'lat', 'alt', 'time', 'TRO3_chemtr', 'qv', 'qc', 'qi', 'u', 'v', 'w', 'geopot', 'omega', 'pv', 'vor', 'pres', 'temp', 'TR_cold_chemtr', 'TRN2O_chemtr', 'TRNOy_chemtr', 'TRO3_pas_chemtr', 'TRN2O_pass_chemtr', 'TRCly_pass_chemtr', 'tempv', 'TR_art_pv_chemtr', 'TRCH4_chemtr', 'TRH2O_chemtr', 'TR_stn', 'TR_stt', 'TR_sts', 'TR_trn', 'TR_trt', 'TRH2O_pass_chemtr', 'TRC2H6_chemtr'])\n"
     ]
    }
   ],
   "source": [
    "print (rootgrp.variables.keys())"
   ]
  },
  {
   "cell_type": "markdown",
   "metadata": {},
   "source": [
    "details"
   ]
  },
  {
   "cell_type": "code",
   "execution_count": 40,
   "metadata": {
    "scrolled": false
   },
   "outputs": [
    {
     "name": "stdout",
     "output_type": "stream",
     "text": [
      "OrderedDict([('lon', <class 'netCDF4._netCDF4.Variable'>\n",
      "float64 lon(lon)\n",
      "    standard_name: longitude\n",
      "    long_name: longitude\n",
      "    units: degrees_east\n",
      "    axis: X\n",
      "unlimited dimensions: \n",
      "current shape = (901,)\n",
      "filling on, default _FillValue of 9.969209968386869e+36 used\n",
      "), ('lat', <class 'netCDF4._netCDF4.Variable'>\n",
      "float64 lat(lat)\n",
      "    standard_name: latitude\n",
      "    long_name: latitude\n",
      "    units: degrees_north\n",
      "    axis: Y\n",
      "unlimited dimensions: \n",
      "current shape = (351,)\n",
      "filling on, default _FillValue of 9.969209968386869e+36 used\n",
      "), ('alt', <class 'netCDF4._netCDF4.Variable'>\n",
      "float64 alt(alt)\n",
      "    long_name: altitude\n",
      "    units: m\n",
      "    positive: up\n",
      "    axis: Z\n",
      "unlimited dimensions: \n",
      "current shape = (66,)\n",
      "filling on, default _FillValue of 9.969209968386869e+36 used\n",
      "), ('time', <class 'netCDF4._netCDF4.Variable'>\n",
      "float64 time(time)\n",
      "    standard_name: time\n",
      "    units: day as %Y%m%d.%f\n",
      "    calendar: proleptic_gregorian\n",
      "    axis: T\n",
      "unlimited dimensions: time\n",
      "current shape = (4,)\n",
      "filling on, default _FillValue of 9.969209968386869e+36 used\n",
      "), ('TRO3_chemtr', <class 'netCDF4._netCDF4.Variable'>\n",
      "float32 TRO3_chemtr(time, alt, lat, lon)\n",
      "    standard_name: TRO3_chemtr\n",
      "    long_name: TRO3_chemtr_mixing_ratio\n",
      "    units: mol mol-1\n",
      "    param: 1.254.0\n",
      "unlimited dimensions: time\n",
      "current shape = (4, 66, 351, 901)\n",
      "filling on, default _FillValue of 9.969209968386869e+36 used\n",
      "), ('qv', <class 'netCDF4._netCDF4.Variable'>\n",
      "float32 qv(time, alt, lat, lon)\n",
      "    standard_name: specific_humidity\n",
      "    long_name: Specific humidity\n",
      "    units: kg kg-1\n",
      "    param: 0.1.0\n",
      "unlimited dimensions: time\n",
      "current shape = (4, 66, 351, 901)\n",
      "filling on, default _FillValue of 9.969209968386869e+36 used\n",
      "), ('qc', <class 'netCDF4._netCDF4.Variable'>\n",
      "float32 qc(time, alt, lat, lon)\n",
      "    standard_name: qc\n",
      "    long_name: specific_cloud_water_content\n",
      "    units: kg kg-1\n",
      "    param: 22.1.0\n",
      "unlimited dimensions: time\n",
      "current shape = (4, 66, 351, 901)\n",
      "filling on, default _FillValue of 9.969209968386869e+36 used\n",
      "), ('qi', <class 'netCDF4._netCDF4.Variable'>\n",
      "float32 qi(time, alt, lat, lon)\n",
      "    standard_name: qi\n",
      "    long_name: specific_cloud_ice_content\n",
      "    units: kg kg-1\n",
      "    param: 82.1.0\n",
      "unlimited dimensions: time\n",
      "current shape = (4, 66, 351, 901)\n",
      "filling on, default _FillValue of 9.969209968386869e+36 used\n",
      "), ('u', <class 'netCDF4._netCDF4.Variable'>\n",
      "float32 u(time, alt, lat, lon)\n",
      "    standard_name: eastward_wind\n",
      "    long_name: Zonal wind\n",
      "    units: m s-1\n",
      "    param: 2.2.0\n",
      "unlimited dimensions: time\n",
      "current shape = (4, 66, 351, 901)\n",
      "filling on, default _FillValue of 9.969209968386869e+36 used\n",
      "), ('v', <class 'netCDF4._netCDF4.Variable'>\n",
      "float32 v(time, alt, lat, lon)\n",
      "    standard_name: northward_wind\n",
      "    long_name: Meridional wind\n",
      "    units: m s-1\n",
      "    param: 3.2.0\n",
      "unlimited dimensions: time\n",
      "current shape = (4, 66, 351, 901)\n",
      "filling on, default _FillValue of 9.969209968386869e+36 used\n",
      "), ('w', <class 'netCDF4._netCDF4.Variable'>\n",
      "float32 w(time, alt, lat, lon)\n",
      "    standard_name: upward_air_velocity\n",
      "    long_name: Vertical velocity\n",
      "    units: m s-1\n",
      "    param: 9.2.0\n",
      "unlimited dimensions: time\n",
      "current shape = (4, 66, 351, 901)\n",
      "filling on, default _FillValue of 9.969209968386869e+36 used\n",
      "), ('geopot', <class 'netCDF4._netCDF4.Variable'>\n",
      "float32 geopot(time, alt, lat, lon)\n",
      "    standard_name: geopotential\n",
      "    long_name: geopotential at full level cell centre\n",
      "    units: m2 s-2\n",
      "    param: 4.3.0\n",
      "unlimited dimensions: time\n",
      "current shape = (4, 66, 351, 901)\n",
      "filling on, default _FillValue of 9.969209968386869e+36 used\n",
      "), ('omega', <class 'netCDF4._netCDF4.Variable'>\n",
      "float32 omega(time, alt, lat, lon)\n",
      "    standard_name: omega\n",
      "    long_name: vertical velocity\n",
      "    units: Pa/s\n",
      "    param: 8.2.0\n",
      "unlimited dimensions: time\n",
      "current shape = (4, 66, 351, 901)\n",
      "filling on, default _FillValue of 9.969209968386869e+36 used\n",
      "), ('pv', <class 'netCDF4._netCDF4.Variable'>\n",
      "float32 pv(time, alt, lat, lon)\n",
      "    standard_name: pv\n",
      "    long_name: potential vorticity\n",
      "    units: K m2 kg-1 s-1\n",
      "    param: 14.2.0\n",
      "unlimited dimensions: time\n",
      "current shape = (4, 66, 351, 901)\n",
      "filling on, default _FillValue of 9.969209968386869e+36 used\n",
      "), ('vor', <class 'netCDF4._netCDF4.Variable'>\n",
      "float32 vor(time, alt, lat, lon)\n",
      "    standard_name: relative_vorticity_on_cells\n",
      "    long_name: Vorticity\n",
      "    units: s-1\n",
      "    param: 10.2.0\n",
      "unlimited dimensions: time\n",
      "current shape = (4, 66, 351, 901)\n",
      "filling on, default _FillValue of 9.969209968386869e+36 used\n",
      "), ('pres', <class 'netCDF4._netCDF4.Variable'>\n",
      "float32 pres(time, alt, lat, lon)\n",
      "    standard_name: air_pressure\n",
      "    long_name: Pressure\n",
      "    units: Pa\n",
      "    param: 0.3.0\n",
      "unlimited dimensions: time\n",
      "current shape = (4, 66, 351, 901)\n",
      "filling on, default _FillValue of 9.969209968386869e+36 used\n",
      "), ('temp', <class 'netCDF4._netCDF4.Variable'>\n",
      "float32 temp(time, alt, lat, lon)\n",
      "    standard_name: air_temperature\n",
      "    long_name: Temperature\n",
      "    units: K\n",
      "    param: 0.0.0\n",
      "unlimited dimensions: time\n",
      "current shape = (4, 66, 351, 901)\n",
      "filling on, default _FillValue of 9.969209968386869e+36 used\n",
      "), ('TR_cold_chemtr', <class 'netCDF4._netCDF4.Variable'>\n",
      "float32 TR_cold_chemtr(time, alt, lat, lon)\n",
      "    standard_name: TR_cold_chemtr\n",
      "    long_name: TR_cold_chemtr_mixing_ratio\n",
      "    units: mol mol-1\n",
      "    param: 1.254.0\n",
      "unlimited dimensions: time\n",
      "current shape = (4, 66, 351, 901)\n",
      "filling on, default _FillValue of 9.969209968386869e+36 used\n",
      "), ('TRN2O_chemtr', <class 'netCDF4._netCDF4.Variable'>\n",
      "float32 TRN2O_chemtr(time, alt, lat, lon)\n",
      "    standard_name: TRN2O_chemtr\n",
      "    long_name: TRN2O_chemtr_mixing_ratio\n",
      "    units: mol mol-1\n",
      "    param: 1.254.0\n",
      "unlimited dimensions: time\n",
      "current shape = (4, 66, 351, 901)\n",
      "filling on, default _FillValue of 9.969209968386869e+36 used\n",
      "), ('TRNOy_chemtr', <class 'netCDF4._netCDF4.Variable'>\n",
      "float32 TRNOy_chemtr(time, alt, lat, lon)\n",
      "    standard_name: TRNOy_chemtr\n",
      "    long_name: TRNOy_chemtr_mixing_ratio\n",
      "    units: mol mol-1\n",
      "    param: 1.254.0\n",
      "unlimited dimensions: time\n",
      "current shape = (4, 66, 351, 901)\n",
      "filling on, default _FillValue of 9.969209968386869e+36 used\n",
      "), ('TRO3_pas_chemtr', <class 'netCDF4._netCDF4.Variable'>\n",
      "float32 TRO3_pas_chemtr(time, alt, lat, lon)\n",
      "    standard_name: TRO3_pas_chemtr\n",
      "    long_name: TRO3_pas_chemtr_mixing_ratio\n",
      "    units: mol mol-1\n",
      "    param: 1.254.0\n",
      "unlimited dimensions: time\n",
      "current shape = (4, 66, 351, 901)\n",
      "filling on, default _FillValue of 9.969209968386869e+36 used\n",
      "), ('TRN2O_pass_chemtr', <class 'netCDF4._netCDF4.Variable'>\n",
      "float32 TRN2O_pass_chemtr(time, alt, lat, lon)\n",
      "    standard_name: TRN2O_pass_chemtr\n",
      "    long_name: TRN2O_pass_chemtr_mixing_ratio\n",
      "    units: mol mol-1\n",
      "    param: 1.254.0\n",
      "unlimited dimensions: time\n",
      "current shape = (4, 66, 351, 901)\n",
      "filling on, default _FillValue of 9.969209968386869e+36 used\n",
      "), ('TRCly_pass_chemtr', <class 'netCDF4._netCDF4.Variable'>\n",
      "float32 TRCly_pass_chemtr(time, alt, lat, lon)\n",
      "    standard_name: TRCly_pass_chemtr\n",
      "    long_name: TRCly_pass_chemtr_mixing_ratio\n",
      "    units: mol mol-1\n",
      "    param: 1.254.0\n",
      "unlimited dimensions: time\n",
      "current shape = (4, 66, 351, 901)\n",
      "filling on, default _FillValue of 9.969209968386869e+36 used\n",
      "), ('tempv', <class 'netCDF4._netCDF4.Variable'>\n",
      "float32 tempv(time, alt, lat, lon)\n",
      "    standard_name: virtual_temperature\n",
      "    long_name: Virtual temperature\n",
      "    units: K\n",
      "    param: 1.0.0\n",
      "unlimited dimensions: time\n",
      "current shape = (4, 66, 351, 901)\n",
      "filling on, default _FillValue of 9.969209968386869e+36 used\n",
      "), ('TR_art_pv_chemtr', <class 'netCDF4._netCDF4.Variable'>\n",
      "float32 TR_art_pv_chemtr(time, alt, lat, lon)\n",
      "    standard_name: TR_art_pv_chemtr\n",
      "    long_name: TR_art_pv_chemtr_mixing_ratio\n",
      "    units: mol mol-1\n",
      "    param: 1.254.0\n",
      "unlimited dimensions: time\n",
      "current shape = (4, 66, 351, 901)\n",
      "filling on, default _FillValue of 9.969209968386869e+36 used\n",
      "), ('TRCH4_chemtr', <class 'netCDF4._netCDF4.Variable'>\n",
      "float32 TRCH4_chemtr(time, alt, lat, lon)\n",
      "    standard_name: TRCH4_chemtr\n",
      "    long_name: TRCH4_chemtr_mixing_ratio\n",
      "    units: mol mol-1\n",
      "    param: 1.254.0\n",
      "unlimited dimensions: time\n",
      "current shape = (4, 66, 351, 901)\n",
      "filling on, default _FillValue of 9.969209968386869e+36 used\n",
      "), ('TRH2O_chemtr', <class 'netCDF4._netCDF4.Variable'>\n",
      "float32 TRH2O_chemtr(time, alt, lat, lon)\n",
      "    standard_name: TRH2O_chemtr\n",
      "    long_name: TRH2O_chemtr_mixing_ratio\n",
      "    units: mol mol-1\n",
      "    param: 1.254.0\n",
      "unlimited dimensions: time\n",
      "current shape = (4, 66, 351, 901)\n",
      "filling on, default _FillValue of 9.969209968386869e+36 used\n",
      "), ('TR_stn', <class 'netCDF4._netCDF4.Variable'>\n",
      "float32 TR_stn(time, alt, lat, lon)\n",
      "    standard_name: TR_stn\n",
      "    long_name: TR_stn_mixing_ratio\n",
      "    units: none\n",
      "    param: 1.254.0\n",
      "unlimited dimensions: time\n",
      "current shape = (4, 66, 351, 901)\n",
      "filling on, default _FillValue of 9.969209968386869e+36 used\n",
      "), ('TR_stt', <class 'netCDF4._netCDF4.Variable'>\n",
      "float32 TR_stt(time, alt, lat, lon)\n",
      "    standard_name: TR_stt\n",
      "    long_name: TR_stt_mixing_ratio\n",
      "    units: none\n",
      "    param: 1.254.0\n",
      "unlimited dimensions: time\n",
      "current shape = (4, 66, 351, 901)\n",
      "filling on, default _FillValue of 9.969209968386869e+36 used\n",
      "), ('TR_sts', <class 'netCDF4._netCDF4.Variable'>\n",
      "float32 TR_sts(time, alt, lat, lon)\n",
      "    standard_name: TR_sts\n",
      "    long_name: TR_sts_mixing_ratio\n",
      "    units: none\n",
      "    param: 1.254.0\n",
      "unlimited dimensions: time\n",
      "current shape = (4, 66, 351, 901)\n",
      "filling on, default _FillValue of 9.969209968386869e+36 used\n",
      "), ('TR_trn', <class 'netCDF4._netCDF4.Variable'>\n",
      "float32 TR_trn(time, alt, lat, lon)\n",
      "    standard_name: TR_trn\n",
      "    long_name: TR_trn_mixing_ratio\n",
      "    units: none\n",
      "    param: 1.254.0\n",
      "unlimited dimensions: time\n",
      "current shape = (4, 66, 351, 901)\n",
      "filling on, default _FillValue of 9.969209968386869e+36 used\n",
      "), ('TR_trt', <class 'netCDF4._netCDF4.Variable'>\n",
      "float32 TR_trt(time, alt, lat, lon)\n",
      "    standard_name: TR_trt\n",
      "    long_name: TR_trt_mixing_ratio\n",
      "    units: none\n",
      "    param: 1.254.0\n",
      "unlimited dimensions: time\n",
      "current shape = (4, 66, 351, 901)\n",
      "filling on, default _FillValue of 9.969209968386869e+36 used\n",
      "), ('TRH2O_pass_chemtr', <class 'netCDF4._netCDF4.Variable'>\n",
      "float32 TRH2O_pass_chemtr(time, alt, lat, lon)\n",
      "    standard_name: TRH2O_pass_chemtr\n",
      "    long_name: TRH2O_pass_chemtr_mixing_ratio\n",
      "    units: mol mol-1\n",
      "    param: 1.254.0\n",
      "unlimited dimensions: time\n",
      "current shape = (4, 66, 351, 901)\n",
      "filling on, default _FillValue of 9.969209968386869e+36 used\n",
      "), ('TRC2H6_chemtr', <class 'netCDF4._netCDF4.Variable'>\n",
      "float32 TRC2H6_chemtr(time, alt, lat, lon)\n",
      "    standard_name: TRC2H6_chemtr\n",
      "    long_name: TRC2H6_chemtr_mixing_ratio\n",
      "    units: mol mol-1\n",
      "    param: 1.254.0\n",
      "unlimited dimensions: time\n",
      "current shape = (4, 66, 351, 901)\n",
      "filling on, default _FillValue of 9.969209968386869e+36 used\n",
      ")])\n"
     ]
    }
   ],
   "source": [
    "print (rootgrp.variables)"
   ]
  },
  {
   "cell_type": "markdown",
   "metadata": {},
   "source": [
    "global attributes"
   ]
  },
  {
   "cell_type": "code",
   "execution_count": 19,
   "metadata": {},
   "outputs": [
    {
     "name": "stdout",
     "output_type": "stream",
     "text": [
      "CF-1.4\n"
     ]
    }
   ],
   "source": [
    "print (rootgrp.Conventions)"
   ]
  },
  {
   "cell_type": "code",
   "execution_count": 17,
   "metadata": {},
   "outputs": [
    {
     "name": "stdout",
     "output_type": "stream",
     "text": [
      "Global attr CDI = Climate Data Interface version 1.7.2 (http://mpimet.mpg.de/cdi)\n",
      "Global attr Conventions = CF-1.4\n",
      "Global attr institution = Max Planck Institute for Meteorology/Deutscher Wetterdienst\n",
      "Global attr title = ICON simulation\n",
      "Global attr source = git@git.mpimet.mpg.de:icon-kit.git@a050994927641c4c69180c285786e6f1e47f8b6f\n",
      "Global attr history = ./icon.exe at 20180515 190556\n",
      "Global attr references = see MPIM/DWD publications\n",
      "Global attr comment = ln1297@kit.edu (ln1297) on uc1n867 (Linux 3.10.0-693.11.6.el7.x86_64 x86_64)\n"
     ]
    }
   ],
   "source": [
    "for name in rootgrp.ncattrs():\n",
    "    print (\"Global attr\", name, \"=\", getattr(rootgrp,name))"
   ]
  },
  {
   "cell_type": "code",
   "execution_count": 22,
   "metadata": {
    "scrolled": true
   },
   "outputs": [
    {
     "name": "stdout",
     "output_type": "stream",
     "text": [
      "OrderedDict([('CDI', 'Climate Data Interface version 1.7.2 (http://mpimet.mpg.de/cdi)'), ('Conventions', 'CF-1.4'), ('institution', 'Max Planck Institute for Meteorology/Deutscher Wetterdienst'), ('title', 'ICON simulation'), ('source', 'git@git.mpimet.mpg.de:icon-kit.git@a050994927641c4c69180c285786e6f1e47f8b6f'), ('history', './icon.exe at 20180515 190556'), ('references', 'see MPIM/DWD publications'), ('comment', 'ln1297@kit.edu (ln1297) on uc1n867 (Linux 3.10.0-693.11.6.el7.x86_64 x86_64)')])\n"
     ]
    }
   ],
   "source": [
    "print (rootgrp.__dict__)"
   ]
  },
  {
   "cell_type": "markdown",
   "metadata": {},
   "source": [
    "variable attributes"
   ]
  },
  {
   "cell_type": "code",
   "execution_count": 26,
   "metadata": {},
   "outputs": [
    {
     "data": {
      "text/plain": [
       "'kg kg-1'"
      ]
     },
     "execution_count": 26,
     "metadata": {},
     "output_type": "execute_result"
    }
   ],
   "source": [
    "rootgrp.variables['qv'].units"
   ]
  },
  {
   "cell_type": "code",
   "execution_count": 29,
   "metadata": {},
   "outputs": [],
   "source": [
    "lon = rootgrp.variables['lon']\n",
    "lat = rootgrp.variables['lat']\n",
    "alt = rootgrp.variables['alt']\n",
    "time = rootgrp.variables['time']"
   ]
  },
  {
   "cell_type": "code",
   "execution_count": 30,
   "metadata": {},
   "outputs": [],
   "source": [
    "qv = rootgrp.variables['qv']\n",
    "pv = rootgrp.variables['pv']"
   ]
  },
  {
   "cell_type": "code",
   "execution_count": 33,
   "metadata": {},
   "outputs": [
    {
     "data": {
      "text/plain": [
       "<class 'netCDF4._netCDF4.Variable'>\n",
       "float32 pv(time, alt, lat, lon)\n",
       "    standard_name: pv\n",
       "    long_name: potential vorticity\n",
       "    units: K m2 kg-1 s-1\n",
       "    param: 14.2.0\n",
       "unlimited dimensions: time\n",
       "current shape = (4, 66, 351, 901)\n",
       "filling on, default _FillValue of 9.969209968386869e+36 used"
      ]
     },
     "execution_count": 33,
     "metadata": {},
     "output_type": "execute_result"
    }
   ],
   "source": [
    "pv"
   ]
  },
  {
   "cell_type": "code",
   "execution_count": 34,
   "metadata": {},
   "outputs": [
    {
     "data": {
      "text/plain": [
       "'K m2 kg-1 s-1'"
      ]
     },
     "execution_count": 34,
     "metadata": {},
     "output_type": "execute_result"
    }
   ],
   "source": [
    "pv.units"
   ]
  },
  {
   "cell_type": "code",
   "execution_count": 35,
   "metadata": {},
   "outputs": [
    {
     "data": {
      "text/plain": [
       "(4, 66, 351, 901)"
      ]
     },
     "execution_count": 35,
     "metadata": {},
     "output_type": "execute_result"
    }
   ],
   "source": [
    "pv.shape"
   ]
  },
  {
   "cell_type": "code",
   "execution_count": 37,
   "metadata": {},
   "outputs": [
    {
     "data": {
      "text/plain": [
       "masked_array(\n",
       "  data=[[[[0., 0., 0., ..., 0., 0., 0.],\n",
       "          [0., 0., 0., ..., 0., 0., 0.],\n",
       "          [0., 0., 0., ..., 0., 0., 0.],\n",
       "          ...,\n",
       "          [0., 0., 0., ..., 0., 0., 0.],\n",
       "          [0., 0., 0., ..., 0., 0., 0.],\n",
       "          [0., 0., 0., ..., 0., 0., 0.]],\n",
       "\n",
       "         [[0., 0., 0., ..., 0., 0., 0.],\n",
       "          [0., 0., 0., ..., 0., 0., 0.],\n",
       "          [0., 0., 0., ..., 0., 0., 0.],\n",
       "          ...,\n",
       "          [0., 0., 0., ..., 0., 0., 0.],\n",
       "          [0., 0., 0., ..., 0., 0., 0.],\n",
       "          [0., 0., 0., ..., 0., 0., 0.]],\n",
       "\n",
       "         [[0., 0., 0., ..., 0., 0., 0.],\n",
       "          [0., 0., 0., ..., 0., 0., 0.],\n",
       "          [0., 0., 0., ..., 0., 0., 0.],\n",
       "          ...,\n",
       "          [0., 0., 0., ..., 0., 0., 0.],\n",
       "          [0., 0., 0., ..., 0., 0., 0.],\n",
       "          [0., 0., 0., ..., 0., 0., 0.]],\n",
       "\n",
       "         ...,\n",
       "\n",
       "         [[0., 0., 0., ..., 0., 0., 0.],\n",
       "          [0., 0., 0., ..., 0., 0., 0.],\n",
       "          [0., 0., 0., ..., 0., 0., 0.],\n",
       "          ...,\n",
       "          [0., 0., 0., ..., 0., 0., 0.],\n",
       "          [0., 0., 0., ..., 0., 0., 0.],\n",
       "          [0., 0., 0., ..., 0., 0., 0.]],\n",
       "\n",
       "         [[0., 0., 0., ..., 0., 0., 0.],\n",
       "          [0., 0., 0., ..., 0., 0., 0.],\n",
       "          [0., 0., 0., ..., 0., 0., 0.],\n",
       "          ...,\n",
       "          [0., 0., 0., ..., 0., 0., 0.],\n",
       "          [0., 0., 0., ..., 0., 0., 0.],\n",
       "          [0., 0., 0., ..., 0., 0., 0.]],\n",
       "\n",
       "         [[0., 0., 0., ..., 0., 0., 0.],\n",
       "          [0., 0., 0., ..., 0., 0., 0.],\n",
       "          [0., 0., 0., ..., 0., 0., 0.],\n",
       "          ...,\n",
       "          [0., 0., 0., ..., 0., 0., 0.],\n",
       "          [0., 0., 0., ..., 0., 0., 0.],\n",
       "          [0., 0., 0., ..., 0., 0., 0.]]],\n",
       "\n",
       "\n",
       "        [[[0., 0., 0., ..., 0., 0., 0.],\n",
       "          [0., 0., 0., ..., 0., 0., 0.],\n",
       "          [0., 0., 0., ..., 0., 0., 0.],\n",
       "          ...,\n",
       "          [0., 0., 0., ..., 0., 0., 0.],\n",
       "          [0., 0., 0., ..., 0., 0., 0.],\n",
       "          [0., 0., 0., ..., 0., 0., 0.]],\n",
       "\n",
       "         [[0., 0., 0., ..., 0., 0., 0.],\n",
       "          [0., 0., 0., ..., 0., 0., 0.],\n",
       "          [0., 0., 0., ..., 0., 0., 0.],\n",
       "          ...,\n",
       "          [0., 0., 0., ..., 0., 0., 0.],\n",
       "          [0., 0., 0., ..., 0., 0., 0.],\n",
       "          [0., 0., 0., ..., 0., 0., 0.]],\n",
       "\n",
       "         [[0., 0., 0., ..., 0., 0., 0.],\n",
       "          [0., 0., 0., ..., 0., 0., 0.],\n",
       "          [0., 0., 0., ..., 0., 0., 0.],\n",
       "          ...,\n",
       "          [0., 0., 0., ..., 0., 0., 0.],\n",
       "          [0., 0., 0., ..., 0., 0., 0.],\n",
       "          [0., 0., 0., ..., 0., 0., 0.]],\n",
       "\n",
       "         ...,\n",
       "\n",
       "         [[0., 0., 0., ..., 0., 0., 0.],\n",
       "          [0., 0., 0., ..., 0., 0., 0.],\n",
       "          [0., 0., 0., ..., 0., 0., 0.],\n",
       "          ...,\n",
       "          [0., 0., 0., ..., 0., 0., 0.],\n",
       "          [0., 0., 0., ..., 0., 0., 0.],\n",
       "          [0., 0., 0., ..., 0., 0., 0.]],\n",
       "\n",
       "         [[0., 0., 0., ..., 0., 0., 0.],\n",
       "          [0., 0., 0., ..., 0., 0., 0.],\n",
       "          [0., 0., 0., ..., 0., 0., 0.],\n",
       "          ...,\n",
       "          [0., 0., 0., ..., 0., 0., 0.],\n",
       "          [0., 0., 0., ..., 0., 0., 0.],\n",
       "          [0., 0., 0., ..., 0., 0., 0.]],\n",
       "\n",
       "         [[0., 0., 0., ..., 0., 0., 0.],\n",
       "          [0., 0., 0., ..., 0., 0., 0.],\n",
       "          [0., 0., 0., ..., 0., 0., 0.],\n",
       "          ...,\n",
       "          [0., 0., 0., ..., 0., 0., 0.],\n",
       "          [0., 0., 0., ..., 0., 0., 0.],\n",
       "          [0., 0., 0., ..., 0., 0., 0.]]],\n",
       "\n",
       "\n",
       "        [[[0., 0., 0., ..., 0., 0., 0.],\n",
       "          [0., 0., 0., ..., 0., 0., 0.],\n",
       "          [0., 0., 0., ..., 0., 0., 0.],\n",
       "          ...,\n",
       "          [0., 0., 0., ..., 0., 0., 0.],\n",
       "          [0., 0., 0., ..., 0., 0., 0.],\n",
       "          [0., 0., 0., ..., 0., 0., 0.]],\n",
       "\n",
       "         [[0., 0., 0., ..., 0., 0., 0.],\n",
       "          [0., 0., 0., ..., 0., 0., 0.],\n",
       "          [0., 0., 0., ..., 0., 0., 0.],\n",
       "          ...,\n",
       "          [0., 0., 0., ..., 0., 0., 0.],\n",
       "          [0., 0., 0., ..., 0., 0., 0.],\n",
       "          [0., 0., 0., ..., 0., 0., 0.]],\n",
       "\n",
       "         [[0., 0., 0., ..., 0., 0., 0.],\n",
       "          [0., 0., 0., ..., 0., 0., 0.],\n",
       "          [0., 0., 0., ..., 0., 0., 0.],\n",
       "          ...,\n",
       "          [0., 0., 0., ..., 0., 0., 0.],\n",
       "          [0., 0., 0., ..., 0., 0., 0.],\n",
       "          [0., 0., 0., ..., 0., 0., 0.]],\n",
       "\n",
       "         ...,\n",
       "\n",
       "         [[0., 0., 0., ..., 0., 0., 0.],\n",
       "          [0., 0., 0., ..., 0., 0., 0.],\n",
       "          [0., 0., 0., ..., 0., 0., 0.],\n",
       "          ...,\n",
       "          [0., 0., 0., ..., 0., 0., 0.],\n",
       "          [0., 0., 0., ..., 0., 0., 0.],\n",
       "          [0., 0., 0., ..., 0., 0., 0.]],\n",
       "\n",
       "         [[0., 0., 0., ..., 0., 0., 0.],\n",
       "          [0., 0., 0., ..., 0., 0., 0.],\n",
       "          [0., 0., 0., ..., 0., 0., 0.],\n",
       "          ...,\n",
       "          [0., 0., 0., ..., 0., 0., 0.],\n",
       "          [0., 0., 0., ..., 0., 0., 0.],\n",
       "          [0., 0., 0., ..., 0., 0., 0.]],\n",
       "\n",
       "         [[0., 0., 0., ..., 0., 0., 0.],\n",
       "          [0., 0., 0., ..., 0., 0., 0.],\n",
       "          [0., 0., 0., ..., 0., 0., 0.],\n",
       "          ...,\n",
       "          [0., 0., 0., ..., 0., 0., 0.],\n",
       "          [0., 0., 0., ..., 0., 0., 0.],\n",
       "          [0., 0., 0., ..., 0., 0., 0.]]],\n",
       "\n",
       "\n",
       "        [[[0., 0., 0., ..., 0., 0., 0.],\n",
       "          [0., 0., 0., ..., 0., 0., 0.],\n",
       "          [0., 0., 0., ..., 0., 0., 0.],\n",
       "          ...,\n",
       "          [0., 0., 0., ..., 0., 0., 0.],\n",
       "          [0., 0., 0., ..., 0., 0., 0.],\n",
       "          [0., 0., 0., ..., 0., 0., 0.]],\n",
       "\n",
       "         [[0., 0., 0., ..., 0., 0., 0.],\n",
       "          [0., 0., 0., ..., 0., 0., 0.],\n",
       "          [0., 0., 0., ..., 0., 0., 0.],\n",
       "          ...,\n",
       "          [0., 0., 0., ..., 0., 0., 0.],\n",
       "          [0., 0., 0., ..., 0., 0., 0.],\n",
       "          [0., 0., 0., ..., 0., 0., 0.]],\n",
       "\n",
       "         [[0., 0., 0., ..., 0., 0., 0.],\n",
       "          [0., 0., 0., ..., 0., 0., 0.],\n",
       "          [0., 0., 0., ..., 0., 0., 0.],\n",
       "          ...,\n",
       "          [0., 0., 0., ..., 0., 0., 0.],\n",
       "          [0., 0., 0., ..., 0., 0., 0.],\n",
       "          [0., 0., 0., ..., 0., 0., 0.]],\n",
       "\n",
       "         ...,\n",
       "\n",
       "         [[0., 0., 0., ..., 0., 0., 0.],\n",
       "          [0., 0., 0., ..., 0., 0., 0.],\n",
       "          [0., 0., 0., ..., 0., 0., 0.],\n",
       "          ...,\n",
       "          [0., 0., 0., ..., 0., 0., 0.],\n",
       "          [0., 0., 0., ..., 0., 0., 0.],\n",
       "          [0., 0., 0., ..., 0., 0., 0.]],\n",
       "\n",
       "         [[0., 0., 0., ..., 0., 0., 0.],\n",
       "          [0., 0., 0., ..., 0., 0., 0.],\n",
       "          [0., 0., 0., ..., 0., 0., 0.],\n",
       "          ...,\n",
       "          [0., 0., 0., ..., 0., 0., 0.],\n",
       "          [0., 0., 0., ..., 0., 0., 0.],\n",
       "          [0., 0., 0., ..., 0., 0., 0.]],\n",
       "\n",
       "         [[0., 0., 0., ..., 0., 0., 0.],\n",
       "          [0., 0., 0., ..., 0., 0., 0.],\n",
       "          [0., 0., 0., ..., 0., 0., 0.],\n",
       "          ...,\n",
       "          [0., 0., 0., ..., 0., 0., 0.],\n",
       "          [0., 0., 0., ..., 0., 0., 0.],\n",
       "          [0., 0., 0., ..., 0., 0., 0.]]]],\n",
       "  mask=False,\n",
       "  fill_value=1e+20,\n",
       "  dtype=float32)"
      ]
     },
     "execution_count": 37,
     "metadata": {},
     "output_type": "execute_result"
    }
   ],
   "source": [
    "pv[:]"
   ]
  },
  {
   "cell_type": "code",
   "execution_count": 38,
   "metadata": {},
   "outputs": [],
   "source": [
    "import numpy as np"
   ]
  },
  {
   "cell_type": "code",
   "execution_count": 39,
   "metadata": {},
   "outputs": [
    {
     "data": {
      "text/plain": [
       "False"
      ]
     },
     "execution_count": 39,
     "metadata": {},
     "output_type": "execute_result"
    }
   ],
   "source": [
    "np.ma.is_masked(pv[:])"
   ]
  },
  {
   "cell_type": "code",
   "execution_count": null,
   "metadata": {},
   "outputs": [],
   "source": []
  }
 ],
 "metadata": {
  "kernelspec": {
   "display_name": "Python 3",
   "language": "python",
   "name": "python3"
  },
  "language_info": {
   "codemirror_mode": {
    "name": "ipython",
    "version": 3
   },
   "file_extension": ".py",
   "mimetype": "text/x-python",
   "name": "python",
   "nbconvert_exporter": "python",
   "pygments_lexer": "ipython3",
   "version": "3.7.3"
  }
 },
 "nbformat": 4,
 "nbformat_minor": 2
}
